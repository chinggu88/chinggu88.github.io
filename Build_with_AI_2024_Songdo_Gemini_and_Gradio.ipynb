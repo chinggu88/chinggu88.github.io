{
  "nbformat": 4,
  "nbformat_minor": 0,
  "metadata": {
    "colab": {
      "provenance": [],
      "include_colab_link": true
    },
    "kernelspec": {
      "name": "python3",
      "display_name": "Python 3"
    },
    "language_info": {
      "name": "python"
    },
    "widgets": {
      "application/vnd.jupyter.widget-state+json": {
        "4ee6c896956f414e89f8e5c1c8d756cc": {
          "model_module": "@jupyter-widgets/controls",
          "model_name": "ButtonModel",
          "model_module_version": "1.5.0",
          "state": {
            "_dom_classes": [],
            "_model_module": "@jupyter-widgets/controls",
            "_model_module_version": "1.5.0",
            "_model_name": "ButtonModel",
            "_view_count": null,
            "_view_module": "@jupyter-widgets/controls",
            "_view_module_version": "1.5.0",
            "_view_name": "ButtonView",
            "button_style": "success",
            "description": "✔ Done",
            "disabled": true,
            "icon": "",
            "layout": "IPY_MODEL_713a3e15461e4008a4b533bf40ea0e8e",
            "style": "IPY_MODEL_9343d5f17cf94934b4051d965e8a477b",
            "tooltip": ""
          }
        },
        "713a3e15461e4008a4b533bf40ea0e8e": {
          "model_module": "@jupyter-widgets/base",
          "model_name": "LayoutModel",
          "model_module_version": "1.2.0",
          "state": {
            "_model_module": "@jupyter-widgets/base",
            "_model_module_version": "1.2.0",
            "_model_name": "LayoutModel",
            "_view_count": null,
            "_view_module": "@jupyter-widgets/base",
            "_view_module_version": "1.2.0",
            "_view_name": "LayoutView",
            "align_content": null,
            "align_items": null,
            "align_self": null,
            "border": null,
            "bottom": null,
            "display": null,
            "flex": null,
            "flex_flow": null,
            "grid_area": null,
            "grid_auto_columns": null,
            "grid_auto_flow": null,
            "grid_auto_rows": null,
            "grid_column": null,
            "grid_gap": null,
            "grid_row": null,
            "grid_template_areas": null,
            "grid_template_columns": null,
            "grid_template_rows": null,
            "height": null,
            "justify_content": null,
            "justify_items": null,
            "left": null,
            "margin": null,
            "max_height": null,
            "max_width": null,
            "min_height": null,
            "min_width": "50px",
            "object_fit": null,
            "object_position": null,
            "order": null,
            "overflow": null,
            "overflow_x": null,
            "overflow_y": null,
            "padding": null,
            "right": null,
            "top": null,
            "visibility": null,
            "width": null
          }
        },
        "9343d5f17cf94934b4051d965e8a477b": {
          "model_module": "@jupyter-widgets/controls",
          "model_name": "ButtonStyleModel",
          "model_module_version": "1.5.0",
          "state": {
            "_model_module": "@jupyter-widgets/controls",
            "_model_module_version": "1.5.0",
            "_model_name": "ButtonStyleModel",
            "_view_count": null,
            "_view_module": "@jupyter-widgets/base",
            "_view_module_version": "1.2.0",
            "_view_name": "StyleView",
            "button_color": null,
            "font_weight": ""
          }
        },
        "fe5e6cab47df4ce0a9adbf6c3d756fb6": {
          "model_module": "@jupyter-widgets/controls",
          "model_name": "ButtonModel",
          "model_module_version": "1.5.0",
          "state": {
            "_dom_classes": [],
            "_model_module": "@jupyter-widgets/controls",
            "_model_module_version": "1.5.0",
            "_model_name": "ButtonModel",
            "_view_count": null,
            "_view_module": "@jupyter-widgets/controls",
            "_view_module_version": "1.5.0",
            "_view_name": "ButtonView",
            "button_style": "success",
            "description": "✔ Done",
            "disabled": true,
            "icon": "",
            "layout": "IPY_MODEL_307ca003e4e245cb9aaa19d5409cdd01",
            "style": "IPY_MODEL_990f870869f54b0f86913e1c03963eaa",
            "tooltip": ""
          }
        },
        "307ca003e4e245cb9aaa19d5409cdd01": {
          "model_module": "@jupyter-widgets/base",
          "model_name": "LayoutModel",
          "model_module_version": "1.2.0",
          "state": {
            "_model_module": "@jupyter-widgets/base",
            "_model_module_version": "1.2.0",
            "_model_name": "LayoutModel",
            "_view_count": null,
            "_view_module": "@jupyter-widgets/base",
            "_view_module_version": "1.2.0",
            "_view_name": "LayoutView",
            "align_content": null,
            "align_items": null,
            "align_self": null,
            "border": null,
            "bottom": null,
            "display": null,
            "flex": null,
            "flex_flow": null,
            "grid_area": null,
            "grid_auto_columns": null,
            "grid_auto_flow": null,
            "grid_auto_rows": null,
            "grid_column": null,
            "grid_gap": null,
            "grid_row": null,
            "grid_template_areas": null,
            "grid_template_columns": null,
            "grid_template_rows": null,
            "height": null,
            "justify_content": null,
            "justify_items": null,
            "left": null,
            "margin": null,
            "max_height": null,
            "max_width": null,
            "min_height": null,
            "min_width": "50px",
            "object_fit": null,
            "object_position": null,
            "order": null,
            "overflow": null,
            "overflow_x": null,
            "overflow_y": null,
            "padding": null,
            "right": null,
            "top": null,
            "visibility": null,
            "width": null
          }
        },
        "990f870869f54b0f86913e1c03963eaa": {
          "model_module": "@jupyter-widgets/controls",
          "model_name": "ButtonStyleModel",
          "model_module_version": "1.5.0",
          "state": {
            "_model_module": "@jupyter-widgets/controls",
            "_model_module_version": "1.5.0",
            "_model_name": "ButtonStyleModel",
            "_view_count": null,
            "_view_module": "@jupyter-widgets/base",
            "_view_module_version": "1.2.0",
            "_view_name": "StyleView",
            "button_color": null,
            "font_weight": ""
          }
        },
        "97eb0d44754443e2893c6a8e44a2d3a7": {
          "model_module": "@jupyter-widgets/controls",
          "model_name": "ButtonModel",
          "model_module_version": "1.5.0",
          "state": {
            "_dom_classes": [],
            "_model_module": "@jupyter-widgets/controls",
            "_model_module_version": "1.5.0",
            "_model_name": "ButtonModel",
            "_view_count": null,
            "_view_module": "@jupyter-widgets/controls",
            "_view_module_version": "1.5.0",
            "_view_name": "ButtonView",
            "button_style": "success",
            "description": "✔ Done",
            "disabled": true,
            "icon": "",
            "layout": "IPY_MODEL_768484de9dcb459780680726cbdfab30",
            "style": "IPY_MODEL_b2128be2ed9e49ecb33e9615abc1c0f0",
            "tooltip": ""
          }
        },
        "768484de9dcb459780680726cbdfab30": {
          "model_module": "@jupyter-widgets/base",
          "model_name": "LayoutModel",
          "model_module_version": "1.2.0",
          "state": {
            "_model_module": "@jupyter-widgets/base",
            "_model_module_version": "1.2.0",
            "_model_name": "LayoutModel",
            "_view_count": null,
            "_view_module": "@jupyter-widgets/base",
            "_view_module_version": "1.2.0",
            "_view_name": "LayoutView",
            "align_content": null,
            "align_items": null,
            "align_self": null,
            "border": null,
            "bottom": null,
            "display": null,
            "flex": null,
            "flex_flow": null,
            "grid_area": null,
            "grid_auto_columns": null,
            "grid_auto_flow": null,
            "grid_auto_rows": null,
            "grid_column": null,
            "grid_gap": null,
            "grid_row": null,
            "grid_template_areas": null,
            "grid_template_columns": null,
            "grid_template_rows": null,
            "height": null,
            "justify_content": null,
            "justify_items": null,
            "left": null,
            "margin": null,
            "max_height": null,
            "max_width": null,
            "min_height": null,
            "min_width": "50px",
            "object_fit": null,
            "object_position": null,
            "order": null,
            "overflow": null,
            "overflow_x": null,
            "overflow_y": null,
            "padding": null,
            "right": null,
            "top": null,
            "visibility": null,
            "width": null
          }
        },
        "b2128be2ed9e49ecb33e9615abc1c0f0": {
          "model_module": "@jupyter-widgets/controls",
          "model_name": "ButtonStyleModel",
          "model_module_version": "1.5.0",
          "state": {
            "_model_module": "@jupyter-widgets/controls",
            "_model_module_version": "1.5.0",
            "_model_name": "ButtonStyleModel",
            "_view_count": null,
            "_view_module": "@jupyter-widgets/base",
            "_view_module_version": "1.2.0",
            "_view_name": "StyleView",
            "button_color": null,
            "font_weight": ""
          }
        }
      }
    }
  },
  "cells": [
    {
      "cell_type": "markdown",
      "metadata": {
        "id": "view-in-github",
        "colab_type": "text"
      },
      "source": [
        "<a href=\"https://colab.research.google.com/github/chinggu88/chinggu88.github.io/blob/main/Build_with_AI_2024_Songdo_Gemini_and_Gradio.ipynb\" target=\"_parent\"><img src=\"https://colab.research.google.com/assets/colab-badge.svg\" alt=\"Open In Colab\"/></a>"
      ]
    },
    {
      "cell_type": "markdown",
      "source": [
        "# Build with AI 2024 Songdo 핸즈온 01\n",
        "\n",
        "## ✨ Python과 Gradio로 빠르게 시작하는 Gemini 🚀"
      ],
      "metadata": {
        "id": "jhTRLIYYQ_lK"
      }
    },
    {
      "cell_type": "markdown",
      "source": [
        "### Gemini 시작하기\n",
        "\n",
        "1. Google AI Studio 접속\n",
        "  - [https://aistudio.google.com/](https://aistudio.google.com/app/prompts/new_chat)\n",
        "\n",
        "2. GDG 이벤트 사이트에서 신청한 Google 계정으로 로그인\n",
        "\n",
        "3. Get API Key\n",
        "  ![Image](https://raw.githubusercontent.com/jphan32/private_resources/main/gemini-handson/get_api_key.png)\n",
        "  ![Image](https://raw.githubusercontent.com/jphan32/private_resources/main/gemini-handson/copy_key.png)\n",
        "\n",
        "  - gemini_key 추가\n",
        "\n",
        "4. 발급받은 Key를 Colab에 입력\n",
        "  ![Image](https://raw.githubusercontent.com/jphan32/private_resources/main/gemini-handson/secrets.png)"
      ],
      "metadata": {
        "id": "tW1GsNwATjTd"
      }
    },
    {
      "cell_type": "markdown",
      "source": [
        "### Google AI Studio 기능 탐색\n",
        "  ![Image](https://raw.githubusercontent.com/jphan32/private_resources/main/gemini-handson/aistudio.png)"
      ],
      "metadata": {
        "id": "2Jy2UomSVikx"
      }
    },
    {
      "cell_type": "code",
      "source": [
        "#@markdown ### Colab 노트북 Dependency 설정\n",
        "#@markdown - Colab 노트북을 사용하는데 필요한 Packages를 설치합니다.\n",
        "#@markdown ---\n",
        "\n",
        "from IPython.display import clear_output\n",
        "import ipywidgets as widgets\n",
        "\n",
        "def inf(msg, style, wdth): inf = widgets.Button(description=msg, disabled=True, button_style=style, layout=widgets.Layout(min_width=wdth));display(inf)\n",
        "C_default = \"\\033[0;39m\"\n",
        "C_yellow = \"\\033[1;93m\"\n",
        "\n",
        "print(C_yellow + \"Install...\" + C_default)\n",
        "# START\n",
        "\n",
        "!pip install gdown==v4.6.3\n",
        "\n",
        "# END CODE\n",
        "clear_output()\n",
        "inf('\\u2714 Done', 'success', '50px')"
      ],
      "metadata": {
        "colab": {
          "base_uri": "https://localhost:8080/",
          "height": 49,
          "referenced_widgets": [
            "4ee6c896956f414e89f8e5c1c8d756cc",
            "713a3e15461e4008a4b533bf40ea0e8e",
            "9343d5f17cf94934b4051d965e8a477b"
          ]
        },
        "cellView": "form",
        "id": "0fPP6JYQYDTe",
        "outputId": "65a9ca20-0cba-4296-dfc9-f31bfa575ecd"
      },
      "execution_count": null,
      "outputs": [
        {
          "output_type": "display_data",
          "data": {
            "text/plain": [
              "Button(button_style='success', description='✔ Done', disabled=True, layout=Layout(min_width='50px'), style=But…"
            ],
            "application/vnd.jupyter.widget-view+json": {
              "version_major": 2,
              "version_minor": 0,
              "model_id": "4ee6c896956f414e89f8e5c1c8d756cc"
            }
          },
          "metadata": {}
        }
      ]
    },
    {
      "cell_type": "markdown",
      "source": [
        "## Gemini API 시작하기"
      ],
      "metadata": {
        "id": "c1EDEwJdWQ4f"
      }
    },
    {
      "cell_type": "code",
      "execution_count": null,
      "metadata": {
        "id": "3pbXJVcy8U5_",
        "colab": {
          "base_uri": "https://localhost:8080/",
          "height": 49,
          "referenced_widgets": [
            "fe5e6cab47df4ce0a9adbf6c3d756fb6",
            "307ca003e4e245cb9aaa19d5409cdd01",
            "990f870869f54b0f86913e1c03963eaa"
          ]
        },
        "cellView": "form",
        "outputId": "27f87bb7-8860-43bd-88fe-6ca23df07a9c"
      },
      "outputs": [
        {
          "output_type": "display_data",
          "data": {
            "text/plain": [
              "Button(button_style='success', description='✔ Done', disabled=True, layout=Layout(min_width='50px'), style=But…"
            ],
            "application/vnd.jupyter.widget-view+json": {
              "version_major": 2,
              "version_minor": 0,
              "model_id": "fe5e6cab47df4ce0a9adbf6c3d756fb6"
            }
          },
          "metadata": {}
        }
      ],
      "source": [
        "#@markdown ### Gemini API 사용에 필요한 Python Package 설치\n",
        "#@markdown ⚠️ Google colab의 경우는 이미 설치되어 있습니다.\n",
        "#@markdown - pip install google-generativeai\n",
        "#@markdown ---\n",
        "\n",
        "from IPython.display import clear_output\n",
        "import ipywidgets as widgets\n",
        "\n",
        "def inf(msg, style, wdth): inf = widgets.Button(description=msg, disabled=True, button_style=style, layout=widgets.Layout(min_width=wdth));display(inf)\n",
        "C_default = \"\\033[0;39m\"\n",
        "C_yellow = \"\\033[1;93m\"\n",
        "\n",
        "print(C_yellow + \"Install...\" + C_default)\n",
        "# START\n",
        "\n",
        "!pip install google-generativeai\n",
        "\n",
        "# END CODE\n",
        "clear_output()\n",
        "inf('\\u2714 Done', 'success', '50px')"
      ]
    },
    {
      "cell_type": "code",
      "source": [
        "#@title Package 임포트\n",
        "\n",
        "import google.generativeai as genai"
      ],
      "metadata": {
        "id": "iHqmnlHuZK_r"
      },
      "execution_count": null,
      "outputs": []
    },
    {
      "cell_type": "code",
      "source": [
        "#@title Gemini API Key 설정\n",
        "\n",
        "from google.colab import userdata        # for Colab only\n",
        "\n",
        "gemini_key = userdata.get('gemini_key')\n",
        "genai.configure(api_key=gemini_key)"
      ],
      "metadata": {
        "id": "SQ3Gcbr2ZXqb"
      },
      "execution_count": null,
      "outputs": []
    },
    {
      "cell_type": "code",
      "source": [
        "#@title 사용 가능한 Gemini Model 확인\n",
        "\n",
        "for m in genai.list_models():\n",
        "  if 'generateContent' in m.supported_generation_methods:\n",
        "    print(m.name)"
      ],
      "metadata": {
        "colab": {
          "base_uri": "https://localhost:8080/",
          "height": 142
        },
        "id": "7n-MDyQlZ1yU",
        "outputId": "21de1553-9b4d-4f67-ae6a-0e7821e75f81"
      },
      "execution_count": null,
      "outputs": [
        {
          "output_type": "stream",
          "name": "stdout",
          "text": [
            "models/gemini-1.0-pro\n",
            "models/gemini-1.0-pro-001\n",
            "models/gemini-1.0-pro-latest\n",
            "models/gemini-1.0-pro-vision-latest\n",
            "models/gemini-1.5-pro-latest\n",
            "models/gemini-pro\n",
            "models/gemini-pro-vision\n"
          ]
        }
      ]
    },
    {
      "cell_type": "code",
      "source": [
        "#@title Gemini Model 인스턴스 선언\n",
        "\n",
        "model = genai.GenerativeModel('gemini-1.0-pro-latest')"
      ],
      "metadata": {
        "id": "KsEKuVtNaJzz"
      },
      "execution_count": null,
      "outputs": []
    },
    {
      "cell_type": "code",
      "source": [
        "#@title Gemini API 첫번째 질문!!\n",
        "\n",
        "q = \"Google Gemini에 대해서 알려줘\"     #@param {type: \"string\"}\n",
        "response = model.generate_content(q)\n",
        "\n",
        "print(response.text)"
      ],
      "metadata": {
        "colab": {
          "base_uri": "https://localhost:8080/",
          "height": 767
        },
        "id": "lGnF5pVmaYeW",
        "outputId": "86f11e1c-6851-4eea-a380-ae61f89916eb"
      },
      "execution_count": null,
      "outputs": [
        {
          "output_type": "stream",
          "name": "stdout",
          "text": [
            "**쌍둥이자리(Gemini)**\n",
            "\n",
            "**기간:** 5월 21일 ~ 6월 21일\n",
            "\n",
            "**원소:** 공기\n",
            "\n",
            "**품질:** 가변\n",
            "\n",
            "**지배 행성:** 수성\n",
            "\n",
            "**상징:** 쌍둥이\n",
            "\n",
            "**강점:**\n",
            "\n",
            "* 지적이고 호기심이 많음\n",
            "* 유연하고 적응력이 뛰어남\n",
            "* 의사소통 능력에 능함\n",
            "* 유머 감각이 좋고 사회적\n",
            "\n",
            "**약점:**\n",
            "\n",
            "* 무상부실하고 집중력이 떨어질 수 있음\n",
            "* 우유부단하고 의견을 자주 바꿀 수 있음\n",
            "* 너무 많이 떠들고 게으를 수 있음\n",
            "\n",
            "**성격 특성:**\n",
            "\n",
            "쌍둥이자리는 지적인 공기 표지판입니다. 호기심이 많고 새로운 정보를 갈구합니다. 빠르게 배우고 다양한 관심 분야를 갖습니다.\n",
            "\n",
            "대화력이 뛰어나며 유머 감각이 좋습니다. 사회적이며 사람들과 어울리는 것을 좋아합니다. 그러나 우유부단하고 의견을 자주 바꿀 수 있습니다.\n",
            "\n",
            "쌍둥이자리는 유연하고 적응력이 뛰어납니다. 변화에 잘 대처하고 새로운 상황에 빠르게 익숙해집니다. 또한 가변 품질로 인해 어떤 상황에도 적응할 수 있습니다.\n",
            "\n",
            "**직업적 적성:**\n",
            "\n",
            "쌍둥이자리는 의사소통, 글쓰기, 교육, 기술 분야에서 탁월합니다. 그들의 지적 호기심과 빠른 학습 능력은 이러한 분야에서 성공하는 데 도움이 될 수 있습니다.\n",
            "\n",
            "**관계:**\n",
            "\n",
            "쌍둥이자리는 지적적 호환성을 가진 파트너를 찾습니다. 그들은 매력적이고 사회적이며 관계에서 즐겁고 경쾌한 분위기를 조성하는 경향이 있습니다.\n",
            "\n",
            "그러나 그들의 우유부단함과 집중력 부족은 때때로 관계에 어려움을 초래할 수 있습니다.\n"
          ]
        }
      ]
    },
    {
      "cell_type": "code",
      "source": [
        "#@title Gemini API Response 살펴보기\n",
        "\n",
        "print(response)\n",
        "\n",
        "for attr in dir(response):\n",
        "  if not attr.startswith('_'):\n",
        "    print(\"- \" + attr)"
      ],
      "metadata": {
        "colab": {
          "base_uri": "https://localhost:8080/"
        },
        "id": "aYQTegYfbSNJ",
        "outputId": "c4bbb2c2-7bdd-4212-bd31-f8fe87f45fac"
      },
      "execution_count": null,
      "outputs": [
        {
          "output_type": "stream",
          "name": "stdout",
          "text": [
            "<google.generativeai.types.generation_types.GenerateContentResponse object at 0x7b816f2c6c50>\n",
            "- candidates\n",
            "- from_iterator\n",
            "- from_response\n",
            "- parts\n",
            "- prompt_feedback\n",
            "- resolve\n",
            "- text\n"
          ]
        }
      ]
    },
    {
      "cell_type": "code",
      "source": [
        "response.prompt_feedback"
      ],
      "metadata": {
        "colab": {
          "base_uri": "https://localhost:8080/"
        },
        "id": "MjMsK1dgGGwK",
        "outputId": "a679c69f-67d7-464a-ea01-8945c82c5ea8"
      },
      "execution_count": null,
      "outputs": [
        {
          "output_type": "execute_result",
          "data": {
            "text/plain": [
              "safety_ratings {\n",
              "  category: HARM_CATEGORY_SEXUALLY_EXPLICIT\n",
              "  probability: NEGLIGIBLE\n",
              "}\n",
              "safety_ratings {\n",
              "  category: HARM_CATEGORY_HATE_SPEECH\n",
              "  probability: NEGLIGIBLE\n",
              "}\n",
              "safety_ratings {\n",
              "  category: HARM_CATEGORY_HARASSMENT\n",
              "  probability: NEGLIGIBLE\n",
              "}\n",
              "safety_ratings {\n",
              "  category: HARM_CATEGORY_DANGEROUS_CONTENT\n",
              "  probability: NEGLIGIBLE\n",
              "}"
            ]
          },
          "metadata": {},
          "execution_count": 13
        }
      ]
    },
    {
      "cell_type": "markdown",
      "source": [
        "### Gemini API Reference\n",
        "[GenerativeAI](https://ai.google.dev/api/python/google/generativeai/GenerativeModel#generate_content) 에서 확인할 수 있습니다."
      ],
      "metadata": {
        "id": "pENsEI8kdWmL"
      }
    },
    {
      "cell_type": "code",
      "source": [
        "# Token 확인하기\n",
        "\n",
        "print(model.count_tokens(q))"
      ],
      "metadata": {
        "colab": {
          "base_uri": "https://localhost:8080/",
          "height": 53
        },
        "id": "ubTVD95TizLD",
        "outputId": "87dd438f-68b5-4c86-bdd5-67c6a864a6e3"
      },
      "execution_count": null,
      "outputs": [
        {
          "output_type": "stream",
          "name": "stdout",
          "text": [
            "total_tokens: 7\n",
            "\n"
          ]
        }
      ]
    },
    {
      "cell_type": "code",
      "source": [
        "## Colab이 아닌 환경에서는 Stream으로 잘 동작합니다!\n",
        "\n",
        "def print_streaming_response(model, contents):\n",
        "  for idx, chunk in enumerate(model.generate_content(contents, stream=True)):\n",
        "    print(f'Chunk [{idx}]')\n",
        "    print(chunk.text)\n",
        "    print('---' * 20)\n",
        "\n",
        "print_streaming_response(model, q)"
      ],
      "metadata": {
        "id": "scjMB7MVduZW"
      },
      "execution_count": null,
      "outputs": []
    },
    {
      "cell_type": "code",
      "source": [
        "#@title Gemini API 채팅모드로 질문하기\n",
        "\n",
        "chat = model.start_chat(history=[\n",
        "  {\n",
        "    \"role\": \"user\",\n",
        "    \"parts\": [\"GDG 챕터에 대해서 알고 싶어\"]\n",
        "  },\n",
        "  {\n",
        "    \"role\": \"model\",\n",
        "    \"parts\": [\"**구글 개발자 그룹(GDG) 챕터**\\n\\n구글 개발자 그룹(GDG) 챕터는 모든 기술 수준의 개발자와 기술 애호가를 위한 지역 커뮤니티입니다. 전 세계 230개국 이상에 약 300,000명의 회원이 있는 3,000개 이상의 챕터가 있습니다.\\n\\n**목적**\\n\\n* 개발자들이 서로에게서 배우고 네트워킹할 수 있는 플랫폼 제공\\n* 최신 기술과 업계 트렌드에 대해 알아보는 데 도움\\n* 구글 제품 및 기술에 관한 실습적 교육 제공\\n\\n**활동**\\n\\nGDG 챕터는 다음과 같은 다양한 활동을 주최할 수 있습니다.\\n\\n* 코드랩 및워크숍\\n* 해커톤 및 코딩 콘테스트\\n* 스피커 이벤트 및 패널 토론\\n* 소셜 행사 및 네트워킹 기회\\n\\n**주제**\\n\\nGDG 챕터는 다양한 기술 주제를 다룹니다.\\n\\n* 안드로이드 개발\\n* 웹 개발\\n* 클라우드 컴퓨팅\\n* 머신러닝\\n* 데이터 과학\\n* UX/UI 디자인\\n\\n**이점**\\n\\nGDG 챕터에 참여하는 이점은 다음과 같습니다.\\n\\n* 지식과 기술 향상\\n* 공통 관심사를 공유하는 다른 개발자들과 연결\\n* 업계 리더와 전문가로부터 배우기\\n* 취업 및 멘토링 기회 탐색\\n* 기술 커뮤니티에 기여\\n\\n**참여 방법**\\n\\nGDG 챕터에 참여하려면 다음 단계를 따르세요.\\n\\n1. **챕터 찾기:** 주변 지역의 챕터를 구글 지도에서 찾습니다.\\n2. **Meetup 가입:** 대부분의 챕터는 Meetup 그룹을 가지고 있습니다. 가입하고 이벤트에 참석하세요.\\n3. **소셜 미디어 팔로우:** 챕터의 소셜 미디어 계정을 팔로우하여 최신 업데이트와 이벤트에 대해 알아보세요.\\n\\n**추가 정보**\\n\\nGDG 챕터에 대한 추가 정보는 다음 링크에서 찾을 수 있습니다.\\n\\n* [GDG 공식 웹사이트](https://developers.google.com/community/gdg/)\\n* [지도에서 GDG 챕터 찾기](https://www.google.com/maps/d/viewer?mid=1abE_63gW1Pa_Y_O3J6Z_0V5G5uvVi5A&ll=40.811504264653954%2C-123.43549833855543&z=3)\"]\n",
        "  },\n",
        "])"
      ],
      "metadata": {
        "id": "Ibqh93yQmmv5"
      },
      "execution_count": null,
      "outputs": []
    },
    {
      "cell_type": "code",
      "source": [
        "user_message = \"송도 지역을 거점으로 하는 GDG 챕터에 대해 설명해줘\"  #@param {type: \"string\"}\n",
        "\n",
        "chat.send_message(user_message)\n",
        "print(chat.last.text)"
      ],
      "metadata": {
        "colab": {
          "base_uri": "https://localhost:8080/",
          "height": 35
        },
        "id": "CFCwIMVvnQHo",
        "outputId": "0ad7ae30-b4cb-4e38-9a2d-3109a76354a8"
      },
      "execution_count": null,
      "outputs": [
        {
          "output_type": "stream",
          "name": "stdout",
          "text": [
            "National Institute of Standards and Technology의 약자입니다.\n"
          ]
        }
      ]
    },
    {
      "cell_type": "code",
      "source": [
        "for message in chat.history:\n",
        "  print(f\"[{message.role}] :\")\n",
        "  print(f\"{message.parts[0].text}\")\n",
        "  print(\"---\" * 20)"
      ],
      "metadata": {
        "colab": {
          "base_uri": "https://localhost:8080/"
        },
        "id": "kAllv0kPnn6k",
        "outputId": "91a719de-5e05-45ce-dc57-103ce6bae9a5"
      },
      "execution_count": null,
      "outputs": [
        {
          "output_type": "stream",
          "name": "stdout",
          "text": [
            "[user] :\n",
            "GDG 챕터에 대해서 알고 싶어\n",
            "------------------------------------------------------------\n",
            "[model] :\n",
            "**구글 개발자 그룹(GDG) 챕터**\n",
            "\n",
            "구글 개발자 그룹(GDG) 챕터는 모든 기술 수준의 개발자와 기술 애호가를 위한 지역 커뮤니티입니다. 전 세계 230개국 이상에 약 300,000명의 회원이 있는 3,000개 이상의 챕터가 있습니다.\n",
            "\n",
            "**목적**\n",
            "\n",
            "* 개발자들이 서로에게서 배우고 네트워킹할 수 있는 플랫폼 제공\n",
            "* 최신 기술과 업계 트렌드에 대해 알아보는 데 도움\n",
            "* 구글 제품 및 기술에 관한 실습적 교육 제공\n",
            "\n",
            "**활동**\n",
            "\n",
            "GDG 챕터는 다음과 같은 다양한 활동을 주최할 수 있습니다.\n",
            "\n",
            "* 코드랩 및워크숍\n",
            "* 해커톤 및 코딩 콘테스트\n",
            "* 스피커 이벤트 및 패널 토론\n",
            "* 소셜 행사 및 네트워킹 기회\n",
            "\n",
            "**주제**\n",
            "\n",
            "GDG 챕터는 다양한 기술 주제를 다룹니다.\n",
            "\n",
            "* 안드로이드 개발\n",
            "* 웹 개발\n",
            "* 클라우드 컴퓨팅\n",
            "* 머신러닝\n",
            "* 데이터 과학\n",
            "* UX/UI 디자인\n",
            "\n",
            "**이점**\n",
            "\n",
            "GDG 챕터에 참여하는 이점은 다음과 같습니다.\n",
            "\n",
            "* 지식과 기술 향상\n",
            "* 공통 관심사를 공유하는 다른 개발자들과 연결\n",
            "* 업계 리더와 전문가로부터 배우기\n",
            "* 취업 및 멘토링 기회 탐색\n",
            "* 기술 커뮤니티에 기여\n",
            "\n",
            "**참여 방법**\n",
            "\n",
            "GDG 챕터에 참여하려면 다음 단계를 따르세요.\n",
            "\n",
            "1. **챕터 찾기:** 주변 지역의 챕터를 구글 지도에서 찾습니다.\n",
            "2. **Meetup 가입:** 대부분의 챕터는 Meetup 그룹을 가지고 있습니다. 가입하고 이벤트에 참석하세요.\n",
            "3. **소셜 미디어 팔로우:** 챕터의 소셜 미디어 계정을 팔로우하여 최신 업데이트와 이벤트에 대해 알아보세요.\n",
            "\n",
            "**추가 정보**\n",
            "\n",
            "GDG 챕터에 대한 추가 정보는 다음 링크에서 찾을 수 있습니다.\n",
            "\n",
            "* [GDG 공식 웹사이트](https://developers.google.com/community/gdg/)\n",
            "* [지도에서 GDG 챕터 찾기](https://www.google.com/maps/d/viewer?mid=1abE_63gW1Pa_Y_O3J6Z_0V5G5uvVi5A&ll=40.811504264653954%2C-123.43549833855543&z=3)\n",
            "------------------------------------------------------------\n",
            "[user] :\n",
            "송도 지역을 거점으로 하는 GDG 챕터에 대해 설명해줘\n",
            "------------------------------------------------------------\n",
            "[model] :\n",
            "**GDG 송도**\n",
            "\n",
            "GDG 송도는 인천광역시 송도 국제도시를 거점으로 하는 구글 개발자 그룹(GDG) 챕터입니다. 2014년에 설립되었으며 주로 안드로이드 개발, 웹 개발, 클라우드 컴퓨팅에 중점을 두고 있습니다.\n",
            "\n",
            "**목적**\n",
            "\n",
            "GDG 송도의 목적은 다음과 같습니다.\n",
            "\n",
            "* 송도 지역 개발자들이 기술을 배우고 네트워킹할 수 있는 플랫폼 제공\n",
            "* 최신 기술 트렌드에 대해 알아보는 데 도움\n",
            "* 구글 제품 및 기술에 관한 실습적 교육 제공\n",
            "\n",
            "**활동**\n",
            "\n",
            "GDG 송도는 다음과 같은 다양한 활동을 주최합니다.\n",
            "\n",
            "* 코드랩 및워크숍\n",
            "* 스피커 이벤트 및 패널 토론\n",
            "* 해커톤 및 코딩 콘테스트\n",
            "* 소셜 행사 및 네트워킹 기회\n",
            "\n",
            "**지난 활동**\n",
            "\n",
            "GDG 송도에서 주최한 최근 활동 중 일부는 다음과 같습니다.\n",
            "\n",
            "* 안드로이드 13에 관한 코드랩\n",
            "* 구글 클라우드 플랫폼 소개 워크숍\n",
            "* 인공 지능과 머신러닝 소개 스피커 이벤트\n",
            "* 송도 해커톤(개발자들이 팀을 이루어 특정 문제를 해결하는 경연 대회)\n",
            "\n",
            "**참여 방법**\n",
            "\n",
            "GDG 송도에 참여하려면 다음 단계를 따르세요.\n",
            "\n",
            "1. **Meetup 가입:** GDG 송도 Meetup 그룹(https://www.meetup.com/gdg-songdo/)에 가입하세요.\n",
            "2. **소셜 미디어 팔로우:** 챕터의 Facebook 페이지(https://www.facebook.com/gdgsongdo/)와 Twitter 계정(@gdgsongdo)을 팔로우하세요.\n",
            "3. **이벤트 참석:** Meetup 그룹에서 이벤트를 확인하고 참석하세요.\n",
            "\n",
            "**추가 정보**\n",
            "\n",
            "GDG 송도에 대한 추가 정보는 다음 링크에서 찾을 수 있습니다.\n",
            "\n",
            "* [GDG 송도 공식 웹사이트](https://gdgsongdo.github.io/)\n",
            "* [GDG 송도 Meetup 그룹](https://www.meetup.com/gdg-songdo/)\n",
            "* [GDG 송도 Facebook 페이지](https://www.facebook.com/gdgsongdo/)\n",
            "* [GDG 송도 Twitter 계정](https://twitter.com/gdgsongdo)\n",
            "------------------------------------------------------------\n",
            "[user] :\n",
            "그럼 부산은?\n",
            "------------------------------------------------------------\n",
            "[model] :\n",
            "**GDG 부산**\n",
            "\n",
            "GDG 부산은 부산광역시를 거점으로 하는 구글 개발자 그룹(GDG) 챕터입니다. 2014년에 설립되었으며 주로 안드로이드 개발, 웹 개발, 클라우드 컴퓨팅에 중점을 두고 있습니다.\n",
            "\n",
            "**목적**\n",
            "\n",
            "GDG 부산의 목적은 다음과 같습니다.\n",
            "\n",
            "* 부산 지역 개발자들이 기술을 배우고 네트워킹할 수 있는 플랫폼 제공\n",
            "* 최신 기술 트렌드에 대해 알아보는 데 도움\n",
            "* 구글 제품 및 기술에 관한 실습적 교육 제공\n",
            "\n",
            "**활동**\n",
            "\n",
            "GDG 부산은 다음과 같은 다양한 활동을 주최합니다.\n",
            "\n",
            "* 코드랩 및워크숍\n",
            "* 스피커 이벤트 및 패널 토론\n",
            "* 해커톤 및 코딩 콘테스트\n",
            "* 소셜 행사 및 네트워킹 기회\n",
            "\n",
            "**지난 활동**\n",
            "\n",
            "GDG 부산에서 주최한 최근 활동 중 일부는 다음과 같습니다.\n",
            "\n",
            "* 젯팩 컴포즈를 사용한 안드로이드 개발 코드랩\n",
            "* 클라우드 펑션을 사용하여 서버리스 애플리케이션 구축 워크숍\n",
            "* 챗봇 개발을 위한 구글 다이얼로그플로 소개 스피커 이벤트\n",
            "* 부산 해커톤(개발자들이 팀을 이루어 특정 문제를 해결하는 경연 대회)\n",
            "\n",
            "**참여 방법**\n",
            "\n",
            "GDG 부산에 참여하려면 다음 단계를 따르세요.\n",
            "\n",
            "1. **Meetup 가입:** GDG 부산 Meetup 그룹(https://www.meetup.com/gdg-busan/)에 가입하세요.\n",
            "2. **소셜 미디어 팔로우:** 챕터의 Facebook 페이지(https://www.facebook.com/gdgbusan/)와 Twitter 계정(@gdgbusan)을 팔로우하세요.\n",
            "3. **이벤트 참석:** Meetup 그룹에서 이벤트를 확인하고 참석하세요.\n",
            "\n",
            "**추가 정보**\n",
            "\n",
            "GDG 부산에 대한 추가 정보는 다음 링크에서 찾을 수 있습니다.\n",
            "\n",
            "* [GDG 부산 공식 웹사이트](https://gdgbusan.github.io/)\n",
            "* [GDG 부산 Meetup 그룹](https://www.meetup.com/gdg-busan/)\n",
            "* [GDG 부산 Facebook 페이지](https://www.facebook.com/gdgbusan/)\n",
            "* [GDG 부산 Twitter 계정](https://twitter.com/gdgbusan)\n",
            "------------------------------------------------------------\n"
          ]
        }
      ]
    },
    {
      "cell_type": "markdown",
      "source": [
        "## Gradio 시작하기\n",
        "\n",
        "![Gradio](https://raw.githubusercontent.com/jphan32/private_resources/main/gemini-handson/gradio.png)\n",
        "\n",
        "![Gradio Tutorial](https://huggingface.co/datasets/huggingface/documentation-images/resolve/main/gradio-guides/lcm-screenshot-3.gif)"
      ],
      "metadata": {
        "id": "ept6wqVTpxE4"
      }
    },
    {
      "cell_type": "code",
      "source": [
        "#@markdown ### Gradio 설치\n",
        "#@markdown - pip install gradio\n",
        "#@markdown ---\n",
        "\n",
        "from IPython.display import clear_output\n",
        "import ipywidgets as widgets\n",
        "\n",
        "def inf(msg, style, wdth): inf = widgets.Button(description=msg, disabled=True, button_style=style, layout=widgets.Layout(min_width=wdth));display(inf)\n",
        "C_default = \"\\033[0;39m\"\n",
        "C_yellow = \"\\033[1;93m\"\n",
        "\n",
        "print(C_yellow + \"Install...\" + C_default)\n",
        "# START\n",
        "\n",
        "!pip install gradio\n",
        "\n",
        "# END CODE\n",
        "clear_output()\n",
        "inf('\\u2714 Done', 'success', '50px')"
      ],
      "metadata": {
        "id": "U3Wf0C-tWRd8",
        "colab": {
          "base_uri": "https://localhost:8080/",
          "height": 49,
          "referenced_widgets": [
            "97eb0d44754443e2893c6a8e44a2d3a7",
            "768484de9dcb459780680726cbdfab30",
            "b2128be2ed9e49ecb33e9615abc1c0f0"
          ]
        },
        "cellView": "form",
        "outputId": "2f4b5c01-806a-4c5b-e4dd-78d07fb06e86"
      },
      "execution_count": null,
      "outputs": [
        {
          "output_type": "display_data",
          "data": {
            "text/plain": [
              "Button(button_style='success', description='✔ Done', disabled=True, layout=Layout(min_width='50px'), style=But…"
            ],
            "application/vnd.jupyter.widget-view+json": {
              "version_major": 2,
              "version_minor": 0,
              "model_id": "97eb0d44754443e2893c6a8e44a2d3a7"
            }
          },
          "metadata": {}
        }
      ]
    },
    {
      "cell_type": "code",
      "source": [
        "#@title Package 임포트\n",
        "\n",
        "import gradio as gr"
      ],
      "metadata": {
        "id": "ZFYaxskmq7th"
      },
      "execution_count": null,
      "outputs": []
    },
    {
      "cell_type": "code",
      "source": [
        "#@title Hello Gradio!\n",
        "\n",
        "def greet(name, intensity):\n",
        "    return \"Hello, \" + name + \"!\" * int(intensity)\n",
        "\n",
        "demo = gr.Interface(\n",
        "    fn=greet,\n",
        "    inputs=[\"text\", \"slider\"],\n",
        "    outputs=[\"text\"],\n",
        ")\n",
        "\n",
        "demo.launch(share=True)"
      ],
      "metadata": {
        "colab": {
          "base_uri": "https://localhost:8080/",
          "height": 593
        },
        "id": "BcAYGA0qq_ni",
        "outputId": "2056b7ea-8bc9-49f2-b9fd-87439d4986a7"
      },
      "execution_count": null,
      "outputs": [
        {
          "output_type": "stream",
          "name": "stdout",
          "text": [
            "Colab notebook detected. To show errors in colab notebook, set debug=True in launch()\n",
            "Running on public URL: https://7153928c50a3839741.gradio.live\n",
            "\n",
            "This share link expires in 72 hours. For free permanent hosting and GPU upgrades, run `gradio deploy` from Terminal to deploy to Spaces (https://huggingface.co/spaces)\n"
          ]
        },
        {
          "output_type": "display_data",
          "data": {
            "text/plain": [
              "<IPython.core.display.HTML object>"
            ],
            "text/html": [
              "<div><iframe src=\"https://7153928c50a3839741.gradio.live\" width=\"100%\" height=\"500\" allow=\"autoplay; camera; microphone; clipboard-read; clipboard-write;\" frameborder=\"0\" allowfullscreen></iframe></div>"
            ]
          },
          "metadata": {}
        },
        {
          "output_type": "execute_result",
          "data": {
            "text/plain": []
          },
          "metadata": {},
          "execution_count": 27
        }
      ]
    },
    {
      "cell_type": "code",
      "source": [
        "#Gradio 닫기\n",
        "\n",
        "demo.close()"
      ],
      "metadata": {
        "id": "DTfLQCJ7Vf8c"
      },
      "execution_count": null,
      "outputs": []
    },
    {
      "cell_type": "markdown",
      "source": [
        "### Gradio 터미널에서 실행하기\n",
        "\n",
        "1. gradio 커맨드 이용하기\n",
        "  ```bash\n",
        "  $ gradio web.py\n",
        "  ```\n",
        "\n",
        "2. Shell script 작성해서 실행하기\n",
        "  - [예제 파일](https://raw.githubusercontent.com/jphan32/private_resources/main/gemini-handson/run_server.sh)\n",
        "\n",
        "3. 여러분의 상황에 맞추어 자유롭게!"
      ],
      "metadata": {
        "id": "jHG-_8ndrsJV"
      }
    },
    {
      "cell_type": "markdown",
      "source": [
        "### Gradio 구조 알아보기\n",
        "\n",
        "![Gradio](https://raw.githubusercontent.com/jphan32/private_resources/main/gemini-handson/gradio_architecture.png)"
      ],
      "metadata": {
        "id": "tNpsZVKCxNmz"
      }
    },
    {
      "cell_type": "code",
      "source": [
        "#@title Hello Gradio with EchoBot!\n",
        "\n",
        "def echo(message, history):\n",
        "    print(history) # TODO: 출력 안되요..\n",
        "    return message\n",
        "\n",
        "demo = gr.ChatInterface(fn=echo, title=\"Echo Bot\")\n",
        "demo.launch()"
      ],
      "metadata": {
        "colab": {
          "base_uri": "https://localhost:8080/",
          "height": 629
        },
        "id": "SRwtXjM3v6jT",
        "outputId": "9009d802-56ff-4627-d4e9-a9a0df018e05"
      },
      "execution_count": null,
      "outputs": [
        {
          "output_type": "stream",
          "name": "stdout",
          "text": [
            "Setting queue=True in a Colab notebook requires sharing enabled. Setting `share=True` (you can turn this off by setting `share=False` in `launch()` explicitly).\n",
            "\n",
            "Colab notebook detected. To show errors in colab notebook, set debug=True in launch()\n",
            "Running on public URL: https://a4e0233843097c5bad.gradio.live\n",
            "\n",
            "This share link expires in 72 hours. For free permanent hosting and GPU upgrades, run `gradio deploy` from Terminal to deploy to Spaces (https://huggingface.co/spaces)\n"
          ]
        },
        {
          "output_type": "display_data",
          "data": {
            "text/plain": [
              "<IPython.core.display.HTML object>"
            ],
            "text/html": [
              "<div><iframe src=\"https://a4e0233843097c5bad.gradio.live\" width=\"100%\" height=\"500\" allow=\"autoplay; camera; microphone; clipboard-read; clipboard-write;\" frameborder=\"0\" allowfullscreen></iframe></div>"
            ]
          },
          "metadata": {}
        },
        {
          "output_type": "execute_result",
          "data": {
            "text/plain": []
          },
          "metadata": {},
          "execution_count": 29
        }
      ]
    },
    {
      "cell_type": "code",
      "source": [
        "#Gradio 닫기\n",
        "\n",
        "demo.close()"
      ],
      "metadata": {
        "id": "Kp8ODlCyVoas"
      },
      "execution_count": null,
      "outputs": []
    },
    {
      "cell_type": "code",
      "source": [
        "#@title Hello Gradio with Gemini!\n",
        "\n",
        "def gradio_api_bot(prompt, chat_history):\n",
        "    chat_history = chat_history or [];\n",
        "    if prompt:\n",
        "        response = model.generate_content(\n",
        "            prompt,\n",
        "            generation_config={\n",
        "                \"max_output_tokens\": 2048,\n",
        "                \"temperature\": 0.9,\n",
        "                \"top_p\":1\n",
        "            },\n",
        "            stream=True,\n",
        "        )\n",
        "\n",
        "        last_message = \"\"\n",
        "        for idx, chunk in enumerate(response):\n",
        "            last_message += chunk.text\n",
        "            yield last_message\n",
        "\n",
        "demo = gr.ChatInterface(fn=gradio_api_bot, title=\"Gradio API Bot\")\n",
        "demo.launch()"
      ],
      "metadata": {
        "colab": {
          "base_uri": "https://localhost:8080/",
          "height": 649
        },
        "id": "923m9cT7xt5I",
        "outputId": "c4caf01d-e03f-4b7f-ce58-f298329aa398"
      },
      "execution_count": null,
      "outputs": [
        {
          "output_type": "stream",
          "name": "stdout",
          "text": [
            "Setting queue=True in a Colab notebook requires sharing enabled. Setting `share=True` (you can turn this off by setting `share=False` in `launch()` explicitly).\n",
            "\n",
            "Colab notebook detected. To show errors in colab notebook, set debug=True in launch()\n",
            "Running on public URL: https://4c24d5f355d236030d.gradio.live\n",
            "\n",
            "This share link expires in 72 hours. For free permanent hosting and GPU upgrades, run `gradio deploy` from Terminal to deploy to Spaces (https://huggingface.co/spaces)\n"
          ]
        },
        {
          "output_type": "display_data",
          "data": {
            "text/plain": [
              "<IPython.core.display.HTML object>"
            ],
            "text/html": [
              "<div><iframe src=\"https://4c24d5f355d236030d.gradio.live\" width=\"100%\" height=\"500\" allow=\"autoplay; camera; microphone; clipboard-read; clipboard-write;\" frameborder=\"0\" allowfullscreen></iframe></div>"
            ]
          },
          "metadata": {}
        },
        {
          "output_type": "execute_result",
          "data": {
            "text/plain": []
          },
          "metadata": {},
          "execution_count": 16
        }
      ]
    },
    {
      "cell_type": "code",
      "source": [
        "#Gradio 닫기\n",
        "\n",
        "demo.close()"
      ],
      "metadata": {
        "id": "Xq_hadfyVpwb"
      },
      "execution_count": null,
      "outputs": []
    },
    {
      "cell_type": "markdown",
      "source": [
        "# Gemini를 이용해서 직접 프롬프트를 작성해보세요!\n",
        "# 먼저 완성하신 두분께는 상품이 있습니다!!\n",
        "![Gradio](https://raw.githubusercontent.com/jphan32/private_resources/main/gemini-handson/winner.png)"
      ],
      "metadata": {
        "id": "U9-rfPH3vlBR"
      }
    },
    {
      "cell_type": "markdown",
      "source": [
        "## Gemini with Gradio로 토이 프로젝트 만들기 (01)\n",
        "\n",
        "### ~냉장고~ 레시피를 부탁해!\n",
        "  ![Image](https://raw.githubusercontent.com/jphan32/private_resources/main/gemini-handson/recipe.png)\n",
        "\n",
        "  - 냉장고에 남아있는 남은 음식 재료들... 어떻게 하면 빨리 소진할 수 있을까?\n",
        "\n",
        "  - Gemini에게 추천 레시피를 알려달라고 해보자!"
      ],
      "metadata": {
        "id": "8JawGP4dWTwk"
      }
    },
    {
      "cell_type": "code",
      "source": [
        "model = genai.GenerativeModel('gemini-pro-vision')\n",
        "\n",
        "def make_recipe(text_input, image_input=None):\n",
        "    prompt = \"\"\"___CODE_YOUR_SELF___\"\"\"\n",
        "\n",
        "    response = model.generate_content(prompt)\n",
        "\n",
        "    return response.text\n",
        "\n",
        "\n",
        "with gr.Blocks() as demo:\n",
        "    gr.Markdown(\"# 레시피를 부탁해! with Gemini\")\n",
        "\n",
        "    with gr.Row():\n",
        "        with gr.Column():\n",
        "            text_input = gr.Textbox(label=\"재료 입력\")\n",
        "            image_input = gr.Image(label=\"만들고 싶은 요리 사진\", type=\"pil\")\n",
        "        with gr.Column():\n",
        "            output_text = gr.Textbox(label=\"Gemini 추천 레시피\", interactive=False)\n",
        "\n",
        "    # 버튼과 액션 연결\n",
        "    btn_process = gr.Button(\"잔반처리 레시피 나와라!\")\n",
        "    btn_process.click(fn=make_recipe, inputs=[text_input, image_input], outputs=output_text)\n",
        "\n",
        "    # 입력 예제\n",
        "    example_elements = [\"사과, 파인애플, 김치, 당근, 오이\", \"계란, 당근, 양파, 치즈, 토마토\", \"치킨, 베이컨, 소시지, 배추김치, 만두\"]\n",
        "    gr.Examples(example_elements, text_input)\n",
        "\n",
        "demo.launch()"
      ],
      "metadata": {
        "id": "F4KdxA3scGjs"
      },
      "execution_count": null,
      "outputs": []
    },
    {
      "cell_type": "code",
      "source": [
        "#Gradio 닫기\n",
        "\n",
        "demo.close()"
      ],
      "metadata": {
        "id": "uLwHU3uKfQOp"
      },
      "execution_count": null,
      "outputs": []
    },
    {
      "cell_type": "markdown",
      "source": [
        "## Gemini with Gradio로 토이 프로젝트 만들기 (02)\n",
        "\n",
        "### 김치를 담궈줘!\n",
        "  ![Image](https://raw.githubusercontent.com/jphan32/private_resources/main/gemini-handson/kimchi.png)\n",
        "\n",
        "  - 우리는 모든 과일과 채소로 김치를 담글 수 있다는 전설이 있는데...\n",
        "\n",
        "  - Gemini에게 과일이나 채소 재료 한가지를 얘기하면 그 재료를 사용한 김치 레시피를 알려달라고 해보자!"
      ],
      "metadata": {
        "id": "jtSGNGTdfKdH"
      }
    },
    {
      "cell_type": "code",
      "source": [
        "model = genai.GenerativeModel('gemini-1.5-pro-latest')\n",
        "\n",
        "def make_recipe(text_input):\n",
        "    prompt = \"\"\"___CODE_YOUR_SELF___\"\"\"\n",
        "\n",
        "    response = model.generate_content(prompt)\n",
        "\n",
        "    return response.text\n",
        "\n",
        "\n",
        "with gr.Blocks() as demo:\n",
        "    gr.Markdown(\"# 김치를 담궈줘! with Gemini\")\n",
        "\n",
        "    with gr.Row():\n",
        "        with gr.Column():\n",
        "            text_input = gr.Textbox(label=\"과일이나 채소 입력\")\n",
        "        with gr.Column():\n",
        "            output_text = gr.Textbox(label=\"Gemini 추천 레시피\", interactive=False)\n",
        "\n",
        "    # 버튼과 액션 연결\n",
        "    btn_process = gr.Button(\"김치 레시피 나와라!\")\n",
        "    btn_process.click(fn=make_recipe, inputs=[text_input], outputs=output_text)\n",
        "\n",
        "    # 입력 예제\n",
        "    example_elements = [\"두리안\", \"피망\", \"오이\", \"베이컨\"]\n",
        "    gr.Examples(example_elements, text_input)\n",
        "\n",
        "demo.launch()"
      ],
      "metadata": {
        "id": "kQ6CnEMufN7U"
      },
      "execution_count": null,
      "outputs": []
    },
    {
      "cell_type": "code",
      "source": [
        "#Gradio 닫기\n",
        "\n",
        "demo.close()"
      ],
      "metadata": {
        "id": "FpT54VHifRMf"
      },
      "execution_count": null,
      "outputs": []
    },
    {
      "cell_type": "markdown",
      "source": [
        "---\n",
        "# 알아두면 좋은 팁!\n",
        "\n",
        "![Image](https://raw.githubusercontent.com/jphan32/private_resources/main/gemini-handson/onemorething.jpg)\n",
        "\n",
        "---\n",
        "## 프롬프트 엔지니어링\n",
        "\n",
        "### [Official Prompt design strategies](https://ai.google.dev/docs/prompt_best_practices)\n",
        "\n",
        "---\n",
        "## 코드와 프롬프트를 분리하자\n",
        "\n",
        "### [Example of Prompt Management Using a TOML File](https://github.com/coding-pot/Zero2Story/blob/main/prompts/palm_prompts.toml)"
      ],
      "metadata": {
        "id": "zcyUx38dYCAj"
      }
    }
  ]
}